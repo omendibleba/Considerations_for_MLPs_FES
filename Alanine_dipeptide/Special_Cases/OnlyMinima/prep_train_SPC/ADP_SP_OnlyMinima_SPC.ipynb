{
 "cells": [
  {
   "cell_type": "markdown",
   "metadata": {},
   "source": [
    "#### This notebook presents a tutorial on how to select the configurations previously generated using Classical molecular dynamics (CLMD) and used as initial configurations for single point ab initi calculations using CP2K. \n",
    "\n",
    "Important files in this directory include:\n",
    "- <font color='yellow'>\"BASIS_MOLOPT\", \"dftd3.dat\", \"GTH_POTENTIALS\", \"HFX_BASIS\"</font> --> Basis sets and pseudo-potentials reqired by CP2K to describe interactions\n",
    "- <font color='yellow'>\"traj_0.inp\"</font> --> Reference CP2K input file for single point calculations\n",
    "- <font color='yellow'>\"prep_spc_from_npz.py\"</font> --> Script to generate folders with required files to run single point calculation using CP2K\n",
    "- <font color='yellow'>\"spc_results_to_npz\"</font> --> Script to parse output from calculations and generate SPC training dataset. \n",
    " \n"
   ]
  },
  {
   "cell_type": "code",
   "execution_count": 1,
   "metadata": {},
   "outputs": [],
   "source": [
    "# imports \n",
    "import os "
   ]
  },
  {
   "cell_type": "code",
   "execution_count": 2,
   "metadata": {},
   "outputs": [],
   "source": [
    "# Define path to training data set of interest. \n",
    "ADP_Omin_500_path = './../prep_train_CLC/alanine_OnlyMins_CLC_500frames.npz'\n",
    "name = 'ADP_Omin_500'\n",
    "num_samples = 500\n",
    "\n",
    "# ##Run the prep_spc_from_npz script to genrerate folders containing the required data to run the SPCs using CP2K\n",
    "# os.system(f'python prep_spc_from_npz.py --input {ADP_Omin_500_path} --samples {int(num_samples)} --name {name}')"
   ]
  },
  {
   "cell_type": "code",
   "execution_count": 3,
   "metadata": {},
   "outputs": [],
   "source": [
    "# Define path to training data set of interest. \n",
    "ADP_Omin_1000_path = './../prep_train_CLC/alanine_OnlyMins_CLC_1000frames.npz'\n",
    "name = 'ADP_Omin_100'\n",
    "num_samples = 1000\n",
    "# ##Run the prep_spc_from_npz script to genrerate folders containing the required data to run the SPCs using CP2K\n",
    "# os.system(f'python prep_spc_from_npz.py --input {ADP_Omin_1000_path} --samples {int(num_samples)} --name {name}')"
   ]
  },
  {
   "cell_type": "code",
   "execution_count": 4,
   "metadata": {},
   "outputs": [],
   "source": [
    "# Define path to training data set of interest. \n",
    "ADP_Omin_2500_path = './../prep_train_CLC/alanine_OnlyMins_CLC_2500frames.npz'\n",
    "name = 'ADP_Omin_2500'\n",
    "num_samples = 2500\n",
    "# ##Run the prep_spc_from_npz script to genrerate folders containing the required data to run the SPCs using CP2K\n",
    "# os.system(f'python prep_spc_from_npz.py --input {ADP_Omin_2500_path} --samples {int(num_samples)} --name {name}')"
   ]
  },
  {
   "cell_type": "markdown",
   "metadata": {},
   "source": [
    "After the files have been created and ran we can proceed to use the spc_results_to_npz.py to extract the potential energy and forces from the cp2k outputs to generate the npz training dataset.\n"
   ]
  },
  {
   "cell_type": "code",
   "execution_count": null,
   "metadata": {},
   "outputs": [],
   "source": [
    "\n",
    "# Define name of the SPC npz data set for the Omin 1000 frames ADP configs\n",
    "Omin_500_output_name = 'alanine_OnlyMins_SPC_500frames'\n",
    "os.system(f'python spc_results_to_npz.py --input {ADP_Omin_500_path} --samples {int(num_samples)} --name {name} --output {Omin_500_output_name}')\n",
    "\n",
    "# # Define name of the SPC npz data set for the Omin 1000 frames ADP configs \n",
    "# Omin_1000_output_name = 'alanine_OnlyMins_SPC_1000frames'\n",
    "# os.system(f'python spc_results_to_npz.py --input {ADP_Omin_1000_path} --samples {int(num_samples)} --name {name} --output {Omin_1000_output_name}')\n",
    "\n",
    "# # Define name of the SPC npz data set for the Omin 2500 frames ADP configs \n",
    "# Omin_2500_output_name = 'alanine_OnlyMins_SPC_2500frames'\n",
    "# os.system(f'python spc_results_to_npz.py --input {ADP_Omin_2500_path} --samples {int(num_samples)} --name {name} --output { Omin_2500_output_name}')\n"
   ]
  },
  {
   "cell_type": "markdown",
   "metadata": {},
   "source": [
    "Training data sets have been created sucesfully"
   ]
  }
 ],
 "metadata": {
  "kernelspec": {
   "display_name": "base",
   "language": "python",
   "name": "python3"
  },
  "language_info": {
   "codemirror_mode": {
    "name": "ipython",
    "version": 3
   },
   "file_extension": ".py",
   "mimetype": "text/x-python",
   "name": "python",
   "nbconvert_exporter": "python",
   "pygments_lexer": "ipython3",
   "version": "3.11.5"
  }
 },
 "nbformat": 4,
 "nbformat_minor": 2
}
