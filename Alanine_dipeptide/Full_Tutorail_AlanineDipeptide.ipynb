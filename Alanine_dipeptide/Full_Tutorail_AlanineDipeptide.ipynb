{
 "cells": [
  {
   "cell_type": "markdown",
   "metadata": {},
   "source": [
    "# Alanine Dipeptide training data preparation, training and evaluation tutorial guide:\n",
    "\n",
    "ADP has three main types of distributions: Boltmann Distribution, Uniform Distribution and special cases, which include(unbias, Only Minima, and CHaracteristic regions). Inside this folder you will find three main directories with the codes and files required to construct each of the datasets which both classical and ab-initio level sof theory. \n",
    "\n",
    "1. For the Boltzmann Dsitribution dataset fo to the notebook: ./prep_train_CLC/ADP_BD_TrainingData_Prep.ipynb. Follwo the Steps to generate the ADP training datasets with 2500 and 5000 frames. \n",
    "    - After generating the training data set with CLC data go to the prep_train_SPC direcry and run the 'ADP_BoltzDist_2500_SPC.ipynb' notebook to generate the training dataset with Boltzmann Distribution and ab-initio accuracy.\n",
    "\n",
    "2. Go to the UniformDist/prep_train_CLC directory and run the 'ADP_2D_Univ_dataPrep_tutorial.ipynb' notebook to generate the trainig datasets with an Uniform Distribution 2500 and 5000 configurations at the classical (CLC) level of theory.\n",
    "\n",
    "    - After generating the training data set with CLC data go to the prep_train_SPC direcry and run the 'ADP_UnivDist_2500_SPC.ipynb' notebook to generate the training dataset with Uniform Distribution and ab-initio accuracy.\n",
    "\n",
    "3. Go to the Special_Cases/Unbias/prep_train_CLC direcory and run the \"ADP_SpeciasCase_Unbias_CLC.ipynb\" to generate the Unbias training data set with 500, 1000 and 2500 condigurations with classical level of theory (CLC)\n",
    "\n",
    "    - After generating the training data set with CLC data go to the prep_train_SPC direcry and run the 'ADP_SpeciasCase_Unbias_SPC.ipynb' notebook to generate the training dataset with ab-initio accuracy.\n",
    "\n",
    "4. Go to the Special_Cases/OnlyMinima/ directory and run the ADP_SP_OnlyMinima_CLC.ipynb notebook to generate the training datasets with 500, 1000, and 2500 frames with classical level of theory (CLC)\n",
    "    - After generating the training data set with CLC data go to the prep_train_SPC direcry and run the 'ADP_SP_OnlyMinima_SPC.ipynb' notebook to generate the training dataset with ab-initio accuracy.\n",
    "\n",
    "5. Go to the Special_Cases/CharacteristicRegions/ directory and run the ADP_SP_CharReg_CLC.ipynb notebook to generate the training datasets with 500, 1000, and 2500 frames with classical level of theory (CLC)\n",
    "    - After generating the training data set with CLC data go to the prep_train_SPC direcry and run the 'ADP_SP_CharReg_SPC.ipynb' notebook to generate the training dataset with ab-initio accuracy.\n",
    "\n"
   ]
  },
  {
   "cell_type": "code",
   "execution_count": null,
   "metadata": {},
   "outputs": [],
   "source": []
  }
 ],
 "metadata": {
  "language_info": {
   "name": "python"
  }
 },
 "nbformat": 4,
 "nbformat_minor": 2
}
