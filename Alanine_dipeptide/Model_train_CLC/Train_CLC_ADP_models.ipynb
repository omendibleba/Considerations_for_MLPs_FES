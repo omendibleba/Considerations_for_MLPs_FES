{
 "cells": [
  {
   "cell_type": "markdown",
   "metadata": {},
   "source": [
    "This notebook includes information about the commands and files used to train the Allegro models and print the training metrics to evaluate training performance. For additional information on the description of the model Architecture and parameters, readers of this notebook are refered to Allegro documentation and tutorial links provided below:\n",
    "\n",
    "- https://arxiv.org/abs/2204.05249\n",
    "- https://github.com/mir-group/allegro\n",
    "- https://colab.research.google.com/drive/1yq2UwnET4loJYg_Fptt9kpklVaZvoHnq"
   ]
  },
  {
   "cell_type": "markdown",
   "metadata": {},
   "source": [
    "The configuration files used to generate the models used in our paper are provided in the current working directory. To train a spcecific model uncomment the comamnd block specified for it. For tutorial puroposes we will continue working with the moel trained with the Boltzmann Distribution. \n",
    "\n",
    "This notebook assumes a working installation of the Allegro package. Ideally with GPU usability. "
   ]
  },
  {
   "cell_type": "code",
   "execution_count": 2,
   "metadata": {},
   "outputs": [],
   "source": [
    "# imports\n",
    "import os"
   ]
  },
  {
   "cell_type": "code",
   "execution_count": 3,
   "metadata": {},
   "outputs": [],
   "source": [
    "## Allegro (and Nequip) command for training the model of ADP with Boltzmann Distribution 2500 frames\n",
    "train_config_file = 'ADP_Boltz2D_2500frames_CLC.yaml'\n",
    "\n",
    "# ## Allegro (and Nequip) command for training the model of ADP with Boltzmann Distribution 5000 frames\n",
    "# train_config_file = 'ADP_Boltz2D_5000frames_CLC.yaml'\n",
    "\n",
    "# ## Allegro (and Nequip) command for training the model of ADP with Uniform Distribution 2500 frames\n",
    "# train_config_file = 'ADP_Univ2D_2500framesCLC.yaml'\n",
    "\n",
    "# ## Allegro (and Nequip) command for training the model of ADP with Uniform Distribution 5000 frames\n",
    "# train_config_file = 'ADP_Univ2D_5000frames_CLC.yaml'\n",
    "\n",
    "## Unbias 500\n",
    "# train_config_file = 'ADP_Unbias_500frames_CLC.yaml'\n",
    "\n",
    "## Unbias 1000\n",
    "# train_config_file = 'ADP_Unbias_1000frames_CLC.yaml'\n",
    "\n",
    "## Unbias 2500\n",
    "# train_config_file = 'ADP_Unbias_2500frames_CLC.yaml'\n",
    "\n",
    "## Only Mins 500\n",
    "# train_config_file = 'ADP_OnlyMins_500frames_CLC.yaml'\n",
    "\n",
    "## Only Mins 1000\n",
    "# train_config_file = 'ADP_OnlyMins_1000frames_CLC.yaml'\n",
    "\n",
    "## Only Mins 2500\n",
    "# train_config_file = 'ADP_OnlyMins_2500frames_CLC.yaml'\n",
    "\n",
    "## Characteristic Regions 500\n",
    "# train_config_file = 'ADP_CharReg_500frames_CLC.yaml'\n",
    "\n",
    "## Characteristic Regions 1000\n",
    "# train_config_file = 'ADP_CharReg_1000frames_CLC.yaml'\n",
    "\n",
    "## Characteristic Regions 2500\n",
    "# train_config_file = 'ADP_CharReg_2500frames_CLC.yaml'"
   ]
  },
  {
   "cell_type": "code",
   "execution_count": 4,
   "metadata": {},
   "outputs": [],
   "source": [
    "# ## Run the training command \n",
    "# os.system(f'nequip-train {train_config_file}')"
   ]
  },
  {
   "cell_type": "markdown",
   "metadata": {},
   "source": [
    "After training a directorey named, results will be generated. FO r effects of the tutorial the current results directory has the training metrics for the model trained with the Uniform Distribution 2500 using the classical level of theory. The next step is to vizualize the trainig metrics. The rest of the steps are performed with the files generated in the results directory which is created during training of a model. For more information go to the \"../Model_train_SPC/Train_SPC_ADP_models.ipynb\" notebook."
   ]
  },
  {
   "cell_type": "code",
   "execution_count": null,
   "metadata": {},
   "outputs": [],
   "source": []
  }
 ],
 "metadata": {
  "kernelspec": {
   "display_name": "base",
   "language": "python",
   "name": "python3"
  },
  "language_info": {
   "codemirror_mode": {
    "name": "ipython",
    "version": 3
   },
   "file_extension": ".py",
   "mimetype": "text/x-python",
   "name": "python",
   "nbconvert_exporter": "python",
   "pygments_lexer": "ipython3",
   "version": "3.11.5"
  }
 },
 "nbformat": 4,
 "nbformat_minor": 2
}
