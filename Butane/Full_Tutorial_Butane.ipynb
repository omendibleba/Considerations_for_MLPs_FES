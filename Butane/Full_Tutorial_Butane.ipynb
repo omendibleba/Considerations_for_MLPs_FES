{
 "cells": [
  {
   "cell_type": "markdown",
   "metadata": {},
   "source": [
    "# Butane training data preparation, training and evaluation tutorial guide:\n",
    "\n",
    "1. Training dataset prepation with CLMD reuslts. Unbiased simulation data in './prep_train_CLC/prep_train_data'\n",
    "2. Open the './prep_train_CLC/CLC_dataset_preparation/Distribution_selection.ipynb' to select the distribution of interest and generate the training dataset in npz format. \n",
    "3. Open the './prep_train_SPC/Prep_SPC_Datasets.ipynb' notebook to use the configurations in the CLC data sets to run single point ab initio claculations (SPC using CP2K) and generate the SPC training datasets.\n",
    "4. Go to either of Model_train directories and read the notebook inside to train the Allegro models using the training datasets generated in the previous steps.\n",
    "\n"
   ]
  },
  {
   "cell_type": "code",
   "execution_count": null,
   "metadata": {},
   "outputs": [],
   "source": []
  }
 ],
 "metadata": {
  "kernelspec": {
   "display_name": "base",
   "language": "python",
   "name": "python3"
  },
  "language_info": {
   "name": "python",
   "version": "3.11.5"
  }
 },
 "nbformat": 4,
 "nbformat_minor": 2
}
